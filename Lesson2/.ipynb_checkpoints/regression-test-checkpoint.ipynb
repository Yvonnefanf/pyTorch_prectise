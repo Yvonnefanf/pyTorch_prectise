{
 "cells": [
  {
   "cell_type": "code",
   "execution_count": 4,
   "id": "3883d086",
   "metadata": {},
   "outputs": [],
   "source": [
    "# Linear Regression\n",
    "# y = wx + b 预测值取值范围连续"
   ]
  },
  {
   "cell_type": "code",
   "execution_count": 2,
   "id": "5aa75a71",
   "metadata": {},
   "outputs": [],
   "source": [
    "# Logistic Regression  二分类\n",
    "# Linear Regression + 压缩函数[0,1](概率)"
   ]
  },
  {
   "cell_type": "code",
   "execution_count": 3,
   "id": "e34f2e02",
   "metadata": {},
   "outputs": [],
   "source": [
    "# classification\n",
    "# 每个class概率 和 = 1"
   ]
  },
  {
   "cell_type": "code",
   "execution_count": 11,
   "id": "dcb5b164",
   "metadata": {},
   "outputs": [],
   "source": [
    "import torch\n",
    "import numpy as np\n",
    "# loss = (wx + b - y)²\n",
    "#loss function\n",
    "def computer_error_for_line_given_points(b, w, points):\n",
    "    totalError = 0\n",
    "    for i in range(0, len(points)):\n",
    "        x = points[i, 0]\n",
    "        y = points[i, 1]\n",
    "        # 预测值与实际值平方和\n",
    "        totalError += (y - (w*x+b))**2\n",
    "    return totalError/ float(len(points))"
   ]
  },
  {
   "cell_type": "code",
   "execution_count": 9,
   "id": "9d0c6ee3",
   "metadata": {},
   "outputs": [],
   "source": [
    "# 梯度信息\n",
    "# (wx + b - y)² 对w求导-> = 2x(wx+b-y) \n",
    "# 对b 求: 2(wx+b-y) \n",
    "def step_gradient(b_current, w_current, points, learningRate):\n",
    "    b_gradient = 0\n",
    "    w_gradient = 0\n",
    "    N = float(len(points))\n",
    "    for i in range(0, len(points)):\n",
    "        x = points[i, 0]\n",
    "        y = points[i, 1]\n",
    "        # 累加除以N 则不用做average\n",
    "        b_gradient += -(2/N) * (y - ((w_current * x) + b_current))\n",
    "        w_gradient += -(2/N) * x * (y - ((w_current * x) + b_current))\n",
    "    new_b = b_current - (learningRate + b_gradient)\n",
    "    new_w = w_current - (learningRate + w_gradient)\n",
    "    return [new_b, new_w]     "
   ]
  },
  {
   "cell_type": "code",
   "execution_count": 20,
   "id": "73fefae1",
   "metadata": {},
   "outputs": [],
   "source": [
    "\n",
    "def gradient_descent_runner(points, starting_b, starting_w,learning_rate, num_iterations):\n",
    "    b = starting_b\n",
    "    w = starting_w\n",
    "    for i in range(num_iterations):\n",
    "        b,w = step_gradient(b,w,np.array(points),learning_rate)\n",
    "    return [b,w]"
   ]
  },
  {
   "cell_type": "code",
   "execution_count": 40,
   "id": "5cf39437",
   "metadata": {},
   "outputs": [],
   "source": [
    "def run():\n",
    "    points = np.genfromtxt(\"data.csv\", delimiter=\",\")\n",
    "    learning_rate = 0.0001\n",
    "    initial_b = 0\n",
    "    initial_w = 0\n",
    "    num_iterations=100\n",
    "    print(\"Starting gd at b={0},w={1},error={2}\".format(initial_b,initial_w,\n",
    "                        computer_error_for_line_given_points( initial_b, initial_w,points)))\n",
    "    print(\"Running...\")\n",
    "    [b,w] = gradient_descent_runner(points, initial_b,initial_w,learning_rate,num_iterations)\n",
    "    print(\"After {0} iterations,b={1},w={2},error={3}\".format(num_iterations,b,w, \n",
    "                                    computer_error_for_line_given_points( initial_b, initial_w,points)))"
   ]
  },
  {
   "cell_type": "code",
   "execution_count": 41,
   "id": "4c8b4678",
   "metadata": {},
   "outputs": [
    {
     "name": "stdout",
     "output_type": "stream",
     "text": [
      "Starting gd at b=0,w=0,error=3016.230024137931\n",
      "Running...\n",
      "After 100 iterations,b=-1.0730492331022508e+273,w=-1.8149254692483154e+274,error=3016.230024137931\n"
     ]
    }
   ],
   "source": [
    "if __name__ == '__main__':\n",
    "    run()"
   ]
  },
  {
   "cell_type": "code",
   "execution_count": null,
   "id": "f77329eb",
   "metadata": {},
   "outputs": [],
   "source": []
  }
 ],
 "metadata": {
  "kernelspec": {
   "display_name": "Python 3 (ipykernel)",
   "language": "python",
   "name": "python3"
  },
  "language_info": {
   "codemirror_mode": {
    "name": "ipython",
    "version": 3
   },
   "file_extension": ".py",
   "mimetype": "text/x-python",
   "name": "python",
   "nbconvert_exporter": "python",
   "pygments_lexer": "ipython3",
   "version": "3.9.7"
  }
 },
 "nbformat": 4,
 "nbformat_minor": 5
}
