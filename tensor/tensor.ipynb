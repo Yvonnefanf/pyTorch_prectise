{
 "cells": [
  {
   "cell_type": "code",
   "execution_count": null,
   "id": "5a23d361",
   "metadata": {},
   "outputs": [],
   "source": [
    "# python       |              PyTorch\n",
    "#  int         |          IntTensor of size() \n",
    "#  float       |          FloatTensor of size()\n",
    "# int array    |          IntTensor of size [d1,d2,...]\n",
    "# Float array  |         FloatTensor of size [d1,d2,...]\n",
    "#  string      |               ------------\n",
    "\n",
    "# How to demote string\n",
    "# 1. One-hot encode\n",
    "# 2. Embedding   Word2vec|glove"
   ]
  },
  {
   "cell_type": "code",
   "execution_count": 6,
   "id": "03522c42",
   "metadata": {},
   "outputs": [
    {
     "data": {
      "text/plain": [
       "'torch.FloatTensor'"
      ]
     },
     "execution_count": 6,
     "metadata": {},
     "output_type": "execute_result"
    }
   ],
   "source": [
    "import torch\n",
    "a = torch.randn(2,3) # 随机初始化 两行三列\n",
    "a.type()"
   ]
  },
  {
   "cell_type": "code",
   "execution_count": 7,
   "id": "f178441b",
   "metadata": {},
   "outputs": [
    {
     "data": {
      "text/plain": [
       "torch.Tensor"
      ]
     },
     "execution_count": 7,
     "metadata": {},
     "output_type": "execute_result"
    }
   ],
   "source": [
    "type(a)"
   ]
  },
  {
   "cell_type": "code",
   "execution_count": 8,
   "id": "39279348",
   "metadata": {},
   "outputs": [
    {
     "data": {
      "text/plain": [
       "True"
      ]
     },
     "execution_count": 8,
     "metadata": {},
     "output_type": "execute_result"
    }
   ],
   "source": [
    "isinstance(a, torch.FloatTensor)"
   ]
  },
  {
   "cell_type": "code",
   "execution_count": 9,
   "id": "3ff89e94",
   "metadata": {},
   "outputs": [
    {
     "data": {
      "text/plain": [
       "tensor(1.)"
      ]
     },
     "execution_count": 9,
     "metadata": {},
     "output_type": "execute_result"
    }
   ],
   "source": [
    "# 严格来说，称仅包含一个数值的叫标量( dimension 为 0) （loss）\n",
    "torch.tensor(1.)"
   ]
  },
  {
   "cell_type": "code",
   "execution_count": 10,
   "id": "5e443d0b",
   "metadata": {},
   "outputs": [
    {
     "data": {
      "text/plain": [
       "tensor(1.3000)"
      ]
     },
     "execution_count": 10,
     "metadata": {},
     "output_type": "execute_result"
    }
   ],
   "source": [
    "torch.tensor(1.3)"
   ]
  },
  {
   "cell_type": "code",
   "execution_count": 11,
   "id": "db14ab49",
   "metadata": {},
   "outputs": [
    {
     "data": {
      "text/plain": [
       "torch.Size([])"
      ]
     },
     "execution_count": 11,
     "metadata": {},
     "output_type": "execute_result"
    }
   ],
   "source": [
    "b = torch.tensor(2.2)\n",
    "b.shape"
   ]
  },
  {
   "cell_type": "code",
   "execution_count": 12,
   "id": "81ba2b8f",
   "metadata": {},
   "outputs": [
    {
     "data": {
      "text/plain": [
       "0"
      ]
     },
     "execution_count": 12,
     "metadata": {},
     "output_type": "execute_result"
    }
   ],
   "source": [
    "len(b.shape)"
   ]
  },
  {
   "cell_type": "code",
   "execution_count": 15,
   "id": "172373b3",
   "metadata": {},
   "outputs": [
    {
     "data": {
      "text/plain": [
       "torch.Size([])"
      ]
     },
     "execution_count": 15,
     "metadata": {},
     "output_type": "execute_result"
    }
   ],
   "source": [
    "b.size()"
   ]
  },
  {
   "cell_type": "code",
   "execution_count": 16,
   "id": "a8f521e4",
   "metadata": {},
   "outputs": [
    {
     "data": {
      "text/plain": [
       "tensor([1.1000])"
      ]
     },
     "execution_count": 16,
     "metadata": {},
     "output_type": "execute_result"
    }
   ],
   "source": [
    "# dimension = 1的tensor  （bias）\n",
    "torch.tensor([1.1])"
   ]
  },
  {
   "cell_type": "code",
   "execution_count": 19,
   "id": "aebae6d1",
   "metadata": {},
   "outputs": [
    {
     "data": {
      "text/plain": [
       "tensor([ 0.0000e+00, -3.6893e+19])"
      ]
     },
     "execution_count": 19,
     "metadata": {},
     "output_type": "execute_result"
    }
   ],
   "source": [
    "torch.FloatTensor(2) # 数据是random初始化的"
   ]
  },
  {
   "cell_type": "code",
   "execution_count": 21,
   "id": "9d6c0156",
   "metadata": {},
   "outputs": [
    {
     "data": {
      "text/plain": [
       "tensor([[ 0.9299,  0.3833, -0.7021],\n",
       "        [ 0.6280,  0.0243,  1.6110]])"
      ]
     },
     "execution_count": 21,
     "metadata": {},
     "output_type": "execute_result"
    }
   ],
   "source": [
    "# size shape\n",
    "# dimension为2 -》 linear input batch\n",
    "c = torch.randn(2,3)\n",
    "c"
   ]
  },
  {
   "cell_type": "code",
   "execution_count": 22,
   "id": "c9f8c811",
   "metadata": {},
   "outputs": [
    {
     "data": {
      "text/plain": [
       "torch.Size([2, 3])"
      ]
     },
     "execution_count": 22,
     "metadata": {},
     "output_type": "execute_result"
    }
   ],
   "source": [
    "c.shape"
   ]
  },
  {
   "cell_type": "code",
   "execution_count": 23,
   "id": "0dea1f82",
   "metadata": {},
   "outputs": [
    {
     "data": {
      "text/plain": [
       "2"
      ]
     },
     "execution_count": 23,
     "metadata": {},
     "output_type": "execute_result"
    }
   ],
   "source": [
    "c.size(0)"
   ]
  },
  {
   "cell_type": "code",
   "execution_count": 24,
   "id": "1668d26e",
   "metadata": {},
   "outputs": [
    {
     "data": {
      "text/plain": [
       "3"
      ]
     },
     "execution_count": 24,
     "metadata": {},
     "output_type": "execute_result"
    }
   ],
   "source": [
    "c.size(1)"
   ]
  },
  {
   "cell_type": "code",
   "execution_count": 27,
   "id": "7af7cad4",
   "metadata": {},
   "outputs": [
    {
     "data": {
      "text/plain": [
       "tensor([[[0.0600, 0.9531, 0.0988],\n",
       "         [0.6665, 0.7784, 0.6273]],\n",
       "\n",
       "        [[0.7432, 0.6573, 0.8817],\n",
       "         [0.7530, 0.2061, 0.4182]]])"
      ]
     },
     "execution_count": 27,
     "metadata": {},
     "output_type": "execute_result"
    }
   ],
   "source": [
    "# dimension为3  (RNN)\n",
    "d = torch.rand(2,2,3)\n",
    "d"
   ]
  },
  {
   "cell_type": "code",
   "execution_count": 28,
   "id": "c435b214",
   "metadata": {},
   "outputs": [
    {
     "data": {
      "text/plain": [
       "tensor([[0.0600, 0.9531, 0.0988],\n",
       "        [0.6665, 0.7784, 0.6273]])"
      ]
     },
     "execution_count": 28,
     "metadata": {},
     "output_type": "execute_result"
    }
   ],
   "source": [
    "d[0]"
   ]
  },
  {
   "cell_type": "code",
   "execution_count": 30,
   "id": "af2af431",
   "metadata": {},
   "outputs": [
    {
     "data": {
      "text/plain": [
       "tensor([[[[0.2520, 0.4810, 0.2451,  ..., 0.0994, 0.6881, 0.9702],\n",
       "          [0.2229, 0.2060, 0.7425,  ..., 0.1614, 0.5968, 0.8479],\n",
       "          [0.9590, 0.0623, 0.5128,  ..., 0.9248, 0.7135, 0.2632],\n",
       "          ...,\n",
       "          [0.9152, 0.1650, 0.9704,  ..., 0.5455, 0.9721, 0.8931],\n",
       "          [0.1835, 0.4492, 0.3958,  ..., 0.9861, 0.4727, 0.8550],\n",
       "          [0.2567, 0.0320, 0.4300,  ..., 0.0869, 0.0611, 0.8185]],\n",
       "\n",
       "         [[0.0493, 0.3441, 0.8145,  ..., 0.6439, 0.0718, 0.8248],\n",
       "          [0.2667, 0.6747, 0.7712,  ..., 0.7455, 0.7800, 0.0027],\n",
       "          [0.6949, 0.9472, 0.7578,  ..., 0.4785, 0.3717, 0.6606],\n",
       "          ...,\n",
       "          [0.4910, 0.4191, 0.4789,  ..., 0.8637, 0.1667, 0.7614],\n",
       "          [0.8234, 0.0494, 0.7978,  ..., 0.3380, 0.5727, 0.5733],\n",
       "          [0.9642, 0.1016, 0.6309,  ..., 0.3991, 0.9832, 0.7399]],\n",
       "\n",
       "         [[0.2412, 0.3532, 0.7427,  ..., 0.9189, 0.6189, 0.6714],\n",
       "          [0.9610, 0.0397, 0.3593,  ..., 0.2348, 0.7243, 0.4607],\n",
       "          [0.7380, 0.6041, 0.3965,  ..., 0.4121, 0.5721, 0.7708],\n",
       "          ...,\n",
       "          [0.0542, 0.9656, 0.6216,  ..., 0.6105, 0.6112, 0.7276],\n",
       "          [0.0575, 0.7727, 0.5427,  ..., 0.4026, 0.9761, 0.7484],\n",
       "          [0.7921, 0.5160, 0.3722,  ..., 0.2612, 0.9990, 0.9884]]]])"
      ]
     },
     "execution_count": 30,
     "metadata": {},
     "output_type": "execute_result"
    }
   ],
   "source": [
    "# dimension = 4 (CNN)\n",
    "e = torch.rand(1,3,28,28)\n",
    "e"
   ]
  },
  {
   "cell_type": "code",
   "execution_count": 33,
   "id": "00997489",
   "metadata": {},
   "outputs": [
    {
     "data": {
      "text/plain": [
       "2352"
      ]
     },
     "execution_count": 33,
     "metadata": {},
     "output_type": "execute_result"
    }
   ],
   "source": [
    "e.numel() # 内存"
   ]
  },
  {
   "cell_type": "code",
   "execution_count": 34,
   "id": "706c73d7",
   "metadata": {},
   "outputs": [
    {
     "data": {
      "text/plain": [
       "4"
      ]
     },
     "execution_count": 34,
     "metadata": {},
     "output_type": "execute_result"
    }
   ],
   "source": [
    "e.dim()"
   ]
  },
  {
   "cell_type": "code",
   "execution_count": null,
   "id": "107d0803",
   "metadata": {},
   "outputs": [],
   "source": []
  }
 ],
 "metadata": {
  "kernelspec": {
   "display_name": "Python 3 (ipykernel)",
   "language": "python",
   "name": "python3"
  },
  "language_info": {
   "codemirror_mode": {
    "name": "ipython",
    "version": 3
   },
   "file_extension": ".py",
   "mimetype": "text/x-python",
   "name": "python",
   "nbconvert_exporter": "python",
   "pygments_lexer": "ipython3",
   "version": "3.9.7"
  }
 },
 "nbformat": 4,
 "nbformat_minor": 5
}
