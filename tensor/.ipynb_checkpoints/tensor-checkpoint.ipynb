{
 "cells": [
  {
   "cell_type": "code",
   "execution_count": null,
   "id": "14712321",
   "metadata": {},
   "outputs": [],
   "source": [
    "# python       |              PyTorch\n",
    "#  int         |          IntTensor of size() \n",
    "#  float       |          FloatTensor of size()\n",
    "# int array    |          IntTensor of size [d1,d2,...]\n",
    "# Float array  |         FloatTensor of size [d1,d2,...]\n",
    "#  string      |               ------------\n",
    "\n",
    "# How to demote string\n",
    "# 1. One-hot encode\n",
    "# 2. Embedding   Word2vec|glove"
   ]
  }
 ],
 "metadata": {
  "kernelspec": {
   "display_name": "Python 3 (ipykernel)",
   "language": "python",
   "name": "python3"
  },
  "language_info": {
   "codemirror_mode": {
    "name": "ipython",
    "version": 3
   },
   "file_extension": ".py",
   "mimetype": "text/x-python",
   "name": "python",
   "nbconvert_exporter": "python",
   "pygments_lexer": "ipython3",
   "version": "3.9.7"
  }
 },
 "nbformat": 4,
 "nbformat_minor": 5
}
