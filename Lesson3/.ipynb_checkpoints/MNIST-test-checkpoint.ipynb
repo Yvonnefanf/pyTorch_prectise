{
 "cells": [
  {
   "cell_type": "code",
   "execution_count": 3,
   "id": "0946d8a6",
   "metadata": {},
   "outputs": [],
   "source": [
    "# 矩阵相乘 [28,28] ->(flat) [784] => [1,784]\n",
    "# X = [v1,v2,...v784]\n",
    "\n",
    "# H1 = XW1 + b1 [1,784][d1,784]T + [d1] => [1,d1]+[d1]\n",
    "# W1:[d1,dx]\n",
    "# b1:[d1]\n",
    "# H2 = H1W2 + b2\n",
    "# ....\n",
    "\n",
    "#Loss?\n",
    "# H3:[1,d3]\n",
    "# one-hot eg: 1=> [0,1,0,0,0,0,0,0,0]; 3=> [0,0,0,3,0,0,0,0,0]\n",
    "\n",
    "# pred = W3 *{W2[W1X+b1]+b2}+b3\n",
    "\n",
    "# Linear Combination?\n",
    "# Non-linear Factor ReLU\n",
    "# H1 = relu(XW1+b1)"
   ]
  },
  {
   "cell_type": "code",
   "execution_count": 4,
   "id": "d2316cce",
   "metadata": {},
   "outputs": [],
   "source": [
    "# Gradient Descent\n",
    "# object = (pred-Y) minimize object\n",
    "\n",
    "#steps load data \n",
    "#build model\n",
    "#tarin\n",
    "#test"
   ]
  },
  {
   "cell_type": "code",
   "execution_count": 5,
   "id": "1d47b47e",
   "metadata": {},
   "outputs": [],
   "source": [
    "import torch\n",
    "from matplotlib import pyplot as plt"
   ]
  },
  {
   "cell_type": "code",
   "execution_count": 6,
   "id": "604a5a41",
   "metadata": {},
   "outputs": [],
   "source": [
    "def plot_curve(data):\n",
    "    fig = plt.figure()\n",
    "    plt.plot(range(len(data)),data,color=\"blue\")\n",
    "    plt.legend(['value'], loc='upper right')\n",
    "    plt.xlabel('step')\n",
    "    plt.ylabel('value')\n",
    "    plt.show()"
   ]
  },
  {
   "cell_type": "code",
   "execution_count": 7,
   "id": "e094c1d2",
   "metadata": {},
   "outputs": [],
   "source": [
    "def plot_image(img, label,name):\n",
    "    fig = plt.figure()\n",
    "    for i in range(6):\n",
    "        plt.subplot(2,3,i+1)\n",
    "        plt.tight_layout()\n",
    "        plt.imshow(img[i][0]*0.3081+0.1307, cmap='gray',interpolation='none')\n",
    "        plt.title(\"{}:{}\".format(name,label[i].item()))\n",
    "        plt.xticks([])\n",
    "        plt.yticks([])\n",
    "    plt.show()"
   ]
  },
  {
   "cell_type": "code",
   "execution_count": 8,
   "id": "cb5d8f9b",
   "metadata": {},
   "outputs": [],
   "source": [
    "def one_hot(label, depth=10):\n",
    "    out = torch.zeros(label.size(0), depth)\n",
    "    idx = torch.LongTensor(label).view(-1,1)\n",
    "    out.scatter_(dim=1, index=idx,value=1)\n",
    "    return out"
   ]
  },
  {
   "cell_type": "code",
   "execution_count": 9,
   "id": "216e6aab",
   "metadata": {},
   "outputs": [],
   "source": [
    "from torch import nn\n",
    "from torch.nn import functional as F\n",
    "from torch import optim\n",
    "import torchvision"
   ]
  },
  {
   "cell_type": "code",
   "execution_count": 10,
   "id": "2a0e2f87",
   "metadata": {},
   "outputs": [
    {
     "name": "stdout",
     "output_type": "stream",
     "text": [
      "Downloading http://yann.lecun.com/exdb/mnist/train-images-idx3-ubyte.gz\n",
      "Downloading http://yann.lecun.com/exdb/mnist/train-images-idx3-ubyte.gz to mnist_data/MNIST/raw/train-images-idx3-ubyte.gz\n"
     ]
    },
    {
     "data": {
      "application/vnd.jupyter.widget-view+json": {
       "model_id": "7bf8c58959134e85aac3f9039576cd33",
       "version_major": 2,
       "version_minor": 0
      },
      "text/plain": [
       "  0%|          | 0/9912422 [00:00<?, ?it/s]"
      ]
     },
     "metadata": {},
     "output_type": "display_data"
    },
    {
     "name": "stdout",
     "output_type": "stream",
     "text": [
      "Extracting mnist_data/MNIST/raw/train-images-idx3-ubyte.gz to mnist_data/MNIST/raw\n",
      "\n",
      "Downloading http://yann.lecun.com/exdb/mnist/train-labels-idx1-ubyte.gz\n",
      "Downloading http://yann.lecun.com/exdb/mnist/train-labels-idx1-ubyte.gz to mnist_data/MNIST/raw/train-labels-idx1-ubyte.gz\n"
     ]
    },
    {
     "data": {
      "application/vnd.jupyter.widget-view+json": {
       "model_id": "76ae2f68810a4c64aa7035261d9abf2f",
       "version_major": 2,
       "version_minor": 0
      },
      "text/plain": [
       "  0%|          | 0/28881 [00:00<?, ?it/s]"
      ]
     },
     "metadata": {},
     "output_type": "display_data"
    },
    {
     "name": "stdout",
     "output_type": "stream",
     "text": [
      "Extracting mnist_data/MNIST/raw/train-labels-idx1-ubyte.gz to mnist_data/MNIST/raw\n",
      "\n",
      "Downloading http://yann.lecun.com/exdb/mnist/t10k-images-idx3-ubyte.gz\n",
      "Downloading http://yann.lecun.com/exdb/mnist/t10k-images-idx3-ubyte.gz to mnist_data/MNIST/raw/t10k-images-idx3-ubyte.gz\n"
     ]
    },
    {
     "data": {
      "application/vnd.jupyter.widget-view+json": {
       "model_id": "c9b36f56831f4ac6a17e51dda06c0743",
       "version_major": 2,
       "version_minor": 0
      },
      "text/plain": [
       "  0%|          | 0/1648877 [00:00<?, ?it/s]"
      ]
     },
     "metadata": {},
     "output_type": "display_data"
    },
    {
     "name": "stdout",
     "output_type": "stream",
     "text": [
      "Extracting mnist_data/MNIST/raw/t10k-images-idx3-ubyte.gz to mnist_data/MNIST/raw\n",
      "\n",
      "Downloading http://yann.lecun.com/exdb/mnist/t10k-labels-idx1-ubyte.gz\n",
      "Downloading http://yann.lecun.com/exdb/mnist/t10k-labels-idx1-ubyte.gz to mnist_data/MNIST/raw/t10k-labels-idx1-ubyte.gz\n"
     ]
    },
    {
     "data": {
      "application/vnd.jupyter.widget-view+json": {
       "model_id": "a25591fbaa4f4ef8a7f257cb4a0cbb4c",
       "version_major": 2,
       "version_minor": 0
      },
      "text/plain": [
       "  0%|          | 0/4542 [00:00<?, ?it/s]"
      ]
     },
     "metadata": {},
     "output_type": "display_data"
    },
    {
     "name": "stdout",
     "output_type": "stream",
     "text": [
      "Extracting mnist_data/MNIST/raw/t10k-labels-idx1-ubyte.gz to mnist_data/MNIST/raw\n",
      "\n"
     ]
    }
   ],
   "source": [
    "# step1 load dataset\n",
    "batch_size = 512\n",
    "train_loader = torch.utils.data.DataLoader(\n",
    "    torchvision.datasets.MNIST('mnist_data', train=True,download=True,\n",
    "                              transform=torchvision.transforms.Compose([\n",
    "                                  torchvision.transforms.ToTensor(),\n",
    "                                  torchvision.transforms.Normalize(\n",
    "                                  (0.1307,),(0.3081,))\n",
    "                              ])),\n",
    "    batch_size=batch_size, shuffle=True)\n",
    "test_loader = torch.utils.data.DataLoader(\n",
    "    torchvision.datasets.MNIST('mnist_data/', train=False,download=True,\n",
    "                              transform=torchvision.transforms.Compose([\n",
    "                                  torchvision.transforms.ToTensor(),\n",
    "                                  torchvision.transforms.Normalize(\n",
    "                                  (0.1307,),(0.3081,))\n",
    "                              ])),\n",
    "    batch_size=batch_size, shuffle=False)"
   ]
  },
  {
   "cell_type": "code",
   "execution_count": 13,
   "id": "3ee89431",
   "metadata": {},
   "outputs": [
    {
     "name": "stdout",
     "output_type": "stream",
     "text": [
      "torch.Size([512, 1, 28, 28]) torch.Size([512]) tensor(-0.4242) tensor(2.8215)\n"
     ]
    }
   ],
   "source": [
    "x,y = next(iter(train_loader))\n",
    "print(x.shape,y.shape,x.min(),x.max())"
   ]
  },
  {
   "cell_type": "code",
   "execution_count": 14,
   "id": "4ab06ff7",
   "metadata": {},
   "outputs": [
    {
     "data": {
      "image/png": "[encoded data removed]",
      "text/plain": [
       "<Figure size 432x288 with 6 Axes>"
      ]
     },
     "metadata": {},
     "output_type": "display_data"
    }
   ],
   "source": [
    "plot_image(x,y,'img_shape')"
   ]
  },
  {
   "cell_type": "code",
   "execution_count": 21,
   "id": "efeddda1",
   "metadata": {},
   "outputs": [],
   "source": [
    "# build model\n",
    "class Net(nn.Module):\n",
    "    def __init__(self):\n",
    "        super(Net, self).__init__()\n",
    "        # xw + b\n",
    "        self.fc1 = nn.Linear(28*28, 256)\n",
    "        self.fc2 = nn.Linear(256, 64)\n",
    "        self.fc3 = nn.Linear(64, 10)\n",
    "    def forward(self, x):\n",
    "        # x: (b,1,28,28)\n",
    "        # h1 = relu(xw1+b1)\n",
    "        x = F.relu(self.fc1(x))\n",
    "        # h2 = relu(xw2+b2)\n",
    "        x = F.relu(self.fc2(x))\n",
    "        # h3 = h2w3+b3\n",
    "        x = self.fc3(x)\n",
    "        return x"
   ]
  },
  {
   "cell_type": "code",
   "execution_count": 25,
   "id": "4b893800",
   "metadata": {},
   "outputs": [
    {
     "data": {
      "image/png": "[encoded data removed]",
      "text/plain": [
       "<Figure size 432x288 with 1 Axes>"
      ]
     },
     "metadata": {
      "needs_background": "light"
     },
     "output_type": "display_data"
    },
    {
     "ename": "NameError",
     "evalue": "name 'total_corrrect' is not defined",
     "output_type": "error",
     "traceback": [
      "\u001b[0;31m---------------------------------------------------------------------------\u001b[0m",
      "\u001b[0;31mNameError\u001b[0m                                 Traceback (most recent call last)",
      "Input \u001b[0;32mIn [25]\u001b[0m, in \u001b[0;36m<cell line: 23>\u001b[0;34m()\u001b[0m\n\u001b[1;32m     27\u001b[0m     pred \u001b[38;5;241m=\u001b[39m out\u001b[38;5;241m.\u001b[39margmax(dim\u001b[38;5;241m=\u001b[39m\u001b[38;5;241m1\u001b[39m)\n\u001b[1;32m     28\u001b[0m     correct \u001b[38;5;241m=\u001b[39m pred\u001b[38;5;241m.\u001b[39meq(y)\u001b[38;5;241m.\u001b[39msum()\u001b[38;5;241m.\u001b[39mfloat()\n\u001b[0;32m---> 29\u001b[0m     total_corrrect \u001b[38;5;241m+\u001b[39m\u001b[38;5;241m=\u001b[39m correct\n\u001b[1;32m     30\u001b[0m total_num \u001b[38;5;241m=\u001b[39m \u001b[38;5;28mlen\u001b[39m(test_loader\u001b[38;5;241m.\u001b[39mdataset)\n\u001b[1;32m     31\u001b[0m acc \u001b[38;5;241m=\u001b[39m total_correct \u001b[38;5;241m/\u001b[39m total_num\n",
      "\u001b[0;31mNameError\u001b[0m: name 'total_corrrect' is not defined"
     ]
    }
   ],
   "source": [
    "net = Net()\n",
    "optimizer = optim.SGD(net.parameters(),lr = 0.01,momentum=0.9)\n",
    "train_loss = []\n",
    "for epoch in range(3):\n",
    "    for batch_idx, (x,y) in enumerate(train_loader):\n",
    "        #torch.Size([512, 1, 28, 28]) torch.Size([512])\n",
    "        # [b,1,28,28] => [b,feature]\n",
    "        x = x.view(x.size(0), 28*28)\n",
    "        # => [b,10]\n",
    "        out = net(x)\n",
    "        y_onehot = one_hot(y)\n",
    "        # loss = mse(out, y_onehot)\n",
    "        loss = F.mse_loss(out, y_onehot)\n",
    "        optimizer.zero_grad()\n",
    "        loss.backward()\n",
    "        # w' = w - lr*grad\n",
    "        optimizer.step()\n",
    "        train_loss.append(loss.item())\n",
    "# get optimal w1 b1 w2 b2 w3 b3\n",
    "\n",
    "plot_curve(train_loss)\n",
    "# accuracy-test\n",
    "for x,y in test_loader:\n",
    "    x = x.view(x.size(0), 28* 28)\n",
    "    out = net(x)\n",
    "    # out:[b,10]\n",
    "    pred = out.argmax(dim=1)\n",
    "    correct = pred.eq(y).sum().float()\n",
    "    total_correct += correct\n",
    "total_num = len(test_loader.dataset)\n",
    "acc = total_correct / total_num\n",
    "prinit('test acc',acc)\n"
   ]
  },
  {
   "cell_type": "code",
   "execution_count": null,
   "id": "67d5b46c",
   "metadata": {},
   "outputs": [],
   "source": []
  }
 ],
 "metadata": {
  "kernelspec": {
   "display_name": "Python 3 (ipykernel)",
   "language": "python",
   "name": "python3"
  },
  "language_info": {
   "codemirror_mode": {
    "name": "ipython",
    "version": 3
   },
   "file_extension": ".py",
   "mimetype": "text/x-python",
   "name": "python",
   "nbconvert_exporter": "python",
   "pygments_lexer": "ipython3",
   "version": "3.9.7"
  }
 },
 "nbformat": 4,
 "nbformat_minor": 5
}
