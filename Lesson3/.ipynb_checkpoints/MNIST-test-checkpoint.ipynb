{
 "cells": [
  {
   "cell_type": "code",
   "execution_count": 3,
   "id": "03fd64d5",
   "metadata": {},
   "outputs": [],
   "source": [
    "# 矩阵相乘 [28,28] ->(flat) [784] => [1,784]\n",
    "# X = [v1,v2,...v784]\n",
    "\n",
    "# H1 = XW1 + b1 [1,784][d1,784]T + [d1] => [1,d1]+[d1]\n",
    "# W1:[d1,dx]\n",
    "# b1:[d1]\n",
    "# H2 = H1W2 + b2\n",
    "# ....\n",
    "\n",
    "#Loss?\n",
    "# H3:[1,d3]\n",
    "# one-hot eg: 1=> [0,1,0,0,0,0,0,0,0]; 3=> [0,0,0,3,0,0,0,0,0]\n",
    "\n",
    "# pred = W3 *{W2[W1X+b1]+b2}+b3\n",
    "\n",
    "# Linear Combination?\n",
    "# Non-linear Factor ReLU\n",
    "# H1 = relu(XW1+b1)"
   ]
  },
  {
   "cell_type": "code",
   "execution_count": null,
   "id": "95900166",
   "metadata": {},
   "outputs": [],
   "source": [
    "import torch"
   ]
  }
 ],
 "metadata": {
  "kernelspec": {
   "display_name": "Python 3 (ipykernel)",
   "language": "python",
   "name": "python3"
  },
  "language_info": {
   "codemirror_mode": {
    "name": "ipython",
    "version": 3
   },
   "file_extension": ".py",
   "mimetype": "text/x-python",
   "name": "python",
   "nbconvert_exporter": "python",
   "pygments_lexer": "ipython3",
   "version": "3.9.7"
  }
 },
 "nbformat": 4,
 "nbformat_minor": 5
}
